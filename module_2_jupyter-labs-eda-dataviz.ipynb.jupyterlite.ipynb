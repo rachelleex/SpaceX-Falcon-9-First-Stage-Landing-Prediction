{
  "cells": [
    {
      "cell_type": "markdown",
      "id": "b69a7989-1d73-4802-bcce-e9ba4aa2ef9e",
      "metadata": {},
      "outputs": [],
      "source": [
        "<p style=\"text-align:center\">\n",
        "    <a href=\"https://skills.network/?utm_medium=Exinfluencer&utm_source=Exinfluencer&utm_content=000026UJ&utm_term=10006555&utm_id=NA-SkillsNetwork-Channel-SkillsNetworkCoursesIBMDS0321ENSkillsNetwork26802033-2022-01-01\" target=\"_blank\">\n",
        "    <img src=\"https://cf-courses-data.s3.us.cloud-object-storage.appdomain.cloud/assets/logos/SN_web_lightmode.png\" width=\"200\" alt=\"Skills Network Logo\"  />\n",
        "    </a>\n",
        "</p>\n"
      ]
    },
    {
      "cell_type": "markdown",
      "id": "859aba28-9938-4132-9f71-880c78598e9c",
      "metadata": {},
      "outputs": [],
      "source": [
        "# **SpaceX  Falcon 9 First Stage Landing Prediction**\n"
      ]
    },
    {
      "cell_type": "markdown",
      "id": "edb83b45-19d9-4f60-a1fe-4612a22c1b26",
      "metadata": {},
      "outputs": [],
      "source": [
        "## Assignment: Exploring and Preparing Data\n"
      ]
    },
    {
      "cell_type": "markdown",
      "id": "41e2476c-d207-4e42-854c-f978a312732e",
      "metadata": {},
      "outputs": [],
      "source": [
        "Estimated time needed: **70** minutes\n"
      ]
    },
    {
      "cell_type": "markdown",
      "id": "f37eb1b7-3cd8-42b9-a63e-280ebb7939ec",
      "metadata": {},
      "outputs": [],
      "source": [
        "In this assignment, we will predict if the Falcon 9 first stage will land successfully. SpaceX advertises Falcon 9 rocket launches on its website with a cost of 62 million dollars; other providers cost upward of 165 million dollars each, much of the savings is due to the fact that SpaceX can reuse the first stage.\n",
        "\n",
        "In this lab, you will perform Exploratory Data Analysis and Feature Engineering.\n"
      ]
    },
    {
      "cell_type": "markdown",
      "id": "e8055c7d-02f4-4947-85ed-1d713c52b5d0",
      "metadata": {},
      "outputs": [],
      "source": [
        "Falcon 9 first stage will land successfully\n"
      ]
    },
    {
      "cell_type": "markdown",
      "id": "d59990e7-00c3-483f-b743-2bfebe840d19",
      "metadata": {},
      "outputs": [],
      "source": [
        "![](https://cf-courses-data.s3.us.cloud-object-storage.appdomain.cloud/IBMDeveloperSkillsNetwork-DS0701EN-SkillsNetwork/api/Images/landing_1.gif)\n"
      ]
    },
    {
      "cell_type": "markdown",
      "id": "e8cb2951-d981-4416-a1af-8f0730630cc1",
      "metadata": {},
      "outputs": [],
      "source": [
        "Several examples of an unsuccessful landing are shown here:\n"
      ]
    },
    {
      "cell_type": "markdown",
      "id": "5b897996-680e-47ed-ae92-946839fb65cb",
      "metadata": {},
      "outputs": [],
      "source": [
        "![](https://cf-courses-data.s3.us.cloud-object-storage.appdomain.cloud/IBMDeveloperSkillsNetwork-DS0701EN-SkillsNetwork/api/Images/crash.gif)\n"
      ]
    },
    {
      "cell_type": "markdown",
      "id": "f42190fc-e6b2-42d4-beb1-199a733a49e7",
      "metadata": {},
      "outputs": [],
      "source": [
        "Most unsuccessful landings are planned. Space X performs a controlled landing in the oceans.\n"
      ]
    },
    {
      "cell_type": "markdown",
      "id": "72c10871-0e37-42b4-b533-423f9ff57721",
      "metadata": {},
      "outputs": [],
      "source": [
        "## Objectives\n",
        "\n",
        "Perform exploratory Data Analysis and Feature Engineering using `Pandas` and `Matplotlib`\n",
        "\n",
        "*   Exploratory Data Analysis\n",
        "*   Preparing Data  Feature Engineering\n"
      ]
    },
    {
      "cell_type": "markdown",
      "id": "24e7bdcf-1e91-49af-a325-7ed9d439e056",
      "metadata": {},
      "outputs": [],
      "source": [
        "### Import Libraries and Define Auxiliary Functions\n"
      ]
    },
    {
      "cell_type": "markdown",
      "id": "ef339e30-599b-4db8-a264-a3f3097ca7f0",
      "metadata": {},
      "outputs": [],
      "source": [
        "We will import the following libraries the lab\n"
      ]
    },
    {
      "cell_type": "code",
      "id": "19482a39-01fa-4fcc-9d4c-2f6adc4985ac",
      "metadata": {},
      "outputs": [],
      "source": [
        "import piplite\nawait piplite.install(['numpy'])\nawait piplite.install(['pandas'])\nawait piplite.install(['seaborn'])"
      ]
    },
    {
      "cell_type": "code",
      "id": "0a0b4b58-18a1-4ad6-b1d6-fb001b7e1b91",
      "metadata": {},
      "outputs": [],
      "source": [
        "# pandas is a software library written for the Python programming language for data manipulation and analysis.\nimport pandas as pd\n#NumPy is a library for the Python programming language, adding support for large, multi-dimensional arrays and matrices, along with a large collection of high-level mathematical functions to operate on these arrays\nimport numpy as np\n# Matplotlib is a plotting library for python and pyplot gives us a MatLab like plotting framework. We will use this in our plotter function to plot data.\nimport matplotlib.pyplot as plt\n#Seaborn is a Python data visualization library based on matplotlib. It provides a high-level interface for drawing attractive and informative statistical graphics\nimport seaborn as sns"
      ]
    },
    {
      "cell_type": "code",
      "id": "88a08c4b-9294-4deb-a3fa-3c62bbfa61f8",
      "metadata": {},
      "outputs": [],
      "source": [
        "## Exploratory Data Analysis\n"
      ]
    },
    {
      "cell_type": "markdown",
      "id": "4a76e6b7-b9b6-4159-995a-e7f768970915",
      "metadata": {},
      "outputs": [],
      "source": [
        "First, let's read the SpaceX dataset into a Pandas dataframe and print its summary\n"
      ]
    },
    {
      "cell_type": "code",
      "id": "857cb717-ca3a-4b92-8615-2db8faa9c0d5",
      "metadata": {},
      "outputs": [],
      "source": [
        "from js import fetch\nimport io\n\nURL = \"https://cf-courses-data.s3.us.cloud-object-storage.appdomain.cloud/IBM-DS0321EN-SkillsNetwork/datasets/dataset_part_2.csv\"\nresp = await fetch(URL)\ndataset_part_2_csv = io.BytesIO((await resp.arrayBuffer()).to_py())\ndf=pd.read_csv(dataset_part_2_csv)\ndf.head(5)"
      ]
    },
    {
      "cell_type": "markdown",
      "id": "e9a41daf-eea3-444b-9417-2f1c34fe5450",
      "metadata": {},
      "outputs": [],
      "source": [
        "First, let's try to see how the `FlightNumber` (indicating the continuous launch attempts.) and `Payload` variables would affect the launch outcome.\n",
        "\n",
        "We can plot out the <code>FlightNumber</code> vs. <code>PayloadMass</code>and overlay the outcome of the launch. We see that as the flight number increases, the first stage is more likely to land successfully. The payload mass is also important; it seems the more massive the payload, the less likely the first stage will return.\n"
      ]
    },
    {
      "cell_type": "code",
      "id": "cf3d4dbc-dc56-40aa-a502-b8b8c0211ac6",
      "metadata": {},
      "outputs": [],
      "source": [
        "sns.catplot(y=\"PayloadMass\", x=\"FlightNumber\", hue=\"Class\", data=df, aspect = 5)\nplt.xlabel(\"Flight Number\",fontsize=20)\nplt.ylabel(\"Pay load Mass (kg)\",fontsize=20)\nplt.show()"
      ]
    },
    {
      "cell_type": "markdown",
      "id": "08715f0a-dab2-402e-af3f-3702ae07f69b",
      "metadata": {},
      "outputs": [],
      "source": [
        "We see that different launch sites have different success rates.  <code>CCAFS LC-40</code>, has a success rate of 60 %, while  <code>KSC LC-39A</code> and <code>VAFB SLC 4E</code> has a success rate of 77%.\n"
      ]
    },
    {
      "cell_type": "markdown",
      "id": "4c4ad994-3e04-4d1d-8e55-3c39c3669702",
      "metadata": {},
      "outputs": [],
      "source": [
        "Next, let's drill down to each site visualize its detailed launch records.\n"
      ]
    },
    {
      "cell_type": "code",
      "id": "b8732e5e-f1d5-449d-9ef7-55c7ea069ffc",
      "metadata": {},
      "outputs": [],
      "source": [
        "### TASK 1: Visualize the relationship between Flight Number and Launch Site\n"
      ]
    },
    {
      "cell_type": "markdown",
      "id": "a738c298-a393-4334-98a6-6740b8797e4d",
      "metadata": {},
      "outputs": [],
      "source": [
        "Use the function <code>catplot</code> to plot <code>FlightNumber</code> vs <code>LaunchSite</code>, set the  parameter <code>x</code>  parameter to <code>FlightNumber</code>,set the  <code>y</code> to <code>Launch Site</code> and set the parameter <code>hue</code> to <code>'class'</code>\n"
      ]
    },
    {
      "cell_type": "code",
      "id": "37b725b3-1d40-47d6-8c07-c1800eb078de",
      "metadata": {},
      "outputs": [],
      "source": [
        "# Plot a scatter point chart with x axis to be Flight Number and y axis to be the launch site, and hue to be the class value"
      ]
    },
    {
      "cell_type": "markdown",
      "id": "c09c774f-826f-49e2-938a-8e5cb033caef",
      "metadata": {},
      "outputs": [],
      "source": [
        "Now try to explain the patterns you found in the Flight Number vs. Launch Site scatter point plots.\n"
      ]
    },
    {
      "cell_type": "code",
      "id": "ec57534d-d9ab-4c7d-a9d2-abda63068ec3",
      "metadata": {},
      "outputs": [],
      "source": [
        "### TASK 2: Visualize the relationship between Payload and Launch Site\n"
      ]
    },
    {
      "cell_type": "markdown",
      "id": "5ca05806-5443-4f24-a198-8400a32d3431",
      "metadata": {},
      "outputs": [],
      "source": [
        "We also want to observe if there is any relationship between launch sites and their payload mass.\n"
      ]
    },
    {
      "cell_type": "code",
      "id": "1fcd6013-e967-40a4-a714-044c9f3d66a1",
      "metadata": {},
      "outputs": [],
      "source": [
        "# Plot a scatter point chart with x axis to be Pay Load Mass (kg) and y axis to be the launch site, and hue to be the class value"
      ]
    },
    {
      "cell_type": "markdown",
      "id": "74c2e0eb-bb9c-4d37-bae2-9742ec1f6210",
      "metadata": {},
      "outputs": [],
      "source": [
        "Now if you observe Payload Vs. Launch Site scatter point chart you will find for the VAFB-SLC  launchsite there are no  rockets  launched for  heavypayload mass(greater than 10000).\n"
      ]
    },
    {
      "cell_type": "code",
      "id": "de0f8947-6dae-4838-8b14-a627cb1b7c18",
      "metadata": {},
      "outputs": [],
      "source": [
        "### TASK  3: Visualize the relationship between success rate of each orbit type\n"
      ]
    },
    {
      "cell_type": "markdown",
      "id": "deb59eb7-5065-4522-a68f-c8d3410c4f61",
      "metadata": {},
      "outputs": [],
      "source": [
        "Next, we want to visually check if there are any relationship between success rate and orbit type.\n"
      ]
    },
    {
      "cell_type": "markdown",
      "id": "d0663f10-58e0-4745-9c62-8c758657001b",
      "metadata": {},
      "outputs": [],
      "source": [
        "Let's create a `bar chart` for the sucess rate of each orbit\n"
      ]
    },
    {
      "cell_type": "code",
      "id": "648123d0-215f-4894-b5ef-8ad8a2f34323",
      "metadata": {},
      "outputs": [],
      "source": [
        "# HINT use groupby method on Orbit column and get the mean of Class column"
      ]
    },
    {
      "cell_type": "markdown",
      "id": "57e7ba83-4e97-4943-9f6b-7c77771cf6e2",
      "metadata": {},
      "outputs": [],
      "source": [
        "Analyze the ploted bar chart try to find which orbits have high sucess rate.\n"
      ]
    },
    {
      "cell_type": "code",
      "id": "b3620bc1-2a35-47b4-a0b4-379fa4af607e",
      "metadata": {},
      "outputs": [],
      "source": [
        "### TASK  4: Visualize the relationship between FlightNumber and Orbit type\n"
      ]
    },
    {
      "cell_type": "markdown",
      "id": "bfbe3576-e5b1-4e6b-86f1-aae55e20e82a",
      "metadata": {},
      "outputs": [],
      "source": [
        "For each orbit, we want to see if there is any relationship between FlightNumber and Orbit type.\n"
      ]
    },
    {
      "cell_type": "code",
      "id": "4386d858-91af-45cf-b9b6-b1e5ec16b026",
      "metadata": {},
      "outputs": [],
      "source": [
        "# Plot a scatter point chart with x axis to be FlightNumber and y axis to be the Orbit, and hue to be the class value"
      ]
    },
    {
      "cell_type": "markdown",
      "id": "a27ae60a-3f15-4f96-8215-e50083886c85",
      "metadata": {},
      "outputs": [],
      "source": [
        "You should see that in the LEO orbit the Success appears related to the number of flights; on the other hand, there seems to be no relationship between flight number when in GTO orbit.\n"
      ]
    },
    {
      "cell_type": "code",
      "id": "af1443bd-a79b-4391-9269-647b277f22cd",
      "metadata": {},
      "outputs": [],
      "source": [
        "### TASK  5: Visualize the relationship between Payload and Orbit type\n"
      ]
    },
    {
      "cell_type": "markdown",
      "id": "9fb9904e-8f5f-443c-a8fe-1f5c45e11670",
      "metadata": {},
      "outputs": [],
      "source": [
        "Similarly, we can plot the Payload vs. Orbit scatter point charts to reveal the relationship between Payload and Orbit type\n"
      ]
    },
    {
      "cell_type": "code",
      "id": "7b07144d-2457-48a6-81a4-5544375fb6ba",
      "metadata": {},
      "outputs": [],
      "source": [
        "# Plot a scatter point chart with x axis to be Payload and y axis to be the Orbit, and hue to be the class value"
      ]
    },
    {
      "cell_type": "markdown",
      "id": "38056a2c-9fe2-4899-9fb6-99b04787b6ee",
      "metadata": {},
      "outputs": [],
      "source": [
        "With heavy payloads the successful landing or positive landing rate are more for Polar,LEO and ISS.\n",
        "\n",
        "However for GTO we cannot distinguish this well as both positive landing rate and negative landing(unsuccessful mission) are both there here.\n"
      ]
    },
    {
      "cell_type": "code",
      "id": "a60dc7e7-10f2-4558-8042-433460bacca1",
      "metadata": {},
      "outputs": [],
      "source": [
        "### TASK  6: Visualize the launch success yearly trend\n"
      ]
    },
    {
      "cell_type": "markdown",
      "id": "4433965c-e259-4add-a24a-2b0f54b1432e",
      "metadata": {},
      "outputs": [],
      "source": [
        "You can plot a line chart with x axis to be <code>Year</code> and y axis to be average success rate, to get the average launch success trend.\n"
      ]
    },
    {
      "cell_type": "markdown",
      "id": "ea965161-5964-4ead-912a-08802fc0864a",
      "metadata": {},
      "outputs": [],
      "source": [
        "The function will help you get the year from the date:\n"
      ]
    },
    {
      "cell_type": "code",
      "id": "4573057a-9c70-4c27-a5fa-07f0393877ac",
      "metadata": {},
      "outputs": [],
      "source": [
        "# A function to Extract years from the date \nyear=[]\ndef Extract_year():\n    for i in df[\"Date\"]:\n        year.append(i.split(\"-\")[0])\n    return year\nExtract_year()\ndf['Date'] = year\ndf.head()\n    "
      ]
    },
    {
      "cell_type": "code",
      "id": "b7e5b0cf-533b-4987-a77d-02439afef9b7",
      "metadata": {},
      "outputs": [],
      "source": [
        "# Plot a line chart with x axis to be the extracted year and y axis to be the success rate"
      ]
    },
    {
      "cell_type": "markdown",
      "id": "3e71390f-e107-4d67-99c5-90a97668a531",
      "metadata": {},
      "outputs": [],
      "source": [
        "you can observe that the sucess rate since 2013 kept increasing till 2020\n"
      ]
    },
    {
      "cell_type": "code",
      "id": "55fc2c19-faea-40f8-9c38-727ba066081a",
      "metadata": {},
      "outputs": [],
      "source": [
        "## Features Engineering\n"
      ]
    },
    {
      "cell_type": "markdown",
      "id": "593c67b7-c72b-4f12-b17a-811987ad07af",
      "metadata": {},
      "outputs": [],
      "source": [
        "By now, you should obtain some preliminary insights about how each important variable would affect the success rate, we will select the features that will be used in success prediction in the future module.\n"
      ]
    },
    {
      "cell_type": "code",
      "id": "9eba56d7-ebb3-4380-bcb0-0bc6a06b699a",
      "metadata": {},
      "outputs": [],
      "source": [
        "features = df[['FlightNumber', 'PayloadMass', 'Orbit', 'LaunchSite', 'Flights', 'GridFins', 'Reused', 'Legs', 'LandingPad', 'Block', 'ReusedCount', 'Serial']]\nfeatures.head()"
      ]
    },
    {
      "cell_type": "code",
      "id": "8b6f32c2-9e9a-4547-adc7-d0b2c6587008",
      "metadata": {},
      "outputs": [],
      "source": [
        "### TASK  7: Create dummy variables to categorical columns\n"
      ]
    },
    {
      "cell_type": "markdown",
      "id": "72b49903-f867-4408-a2ff-30f860d17534",
      "metadata": {},
      "outputs": [],
      "source": [
        "Use the function <code>get_dummies</code> and <code>features</code> dataframe to apply OneHotEncoder to the column <code>Orbits</code>, <code>LaunchSite</code>, <code>LandingPad</code>, and <code>Serial</code>. Assign the value to the variable <code>features_one_hot</code>, display the results using the method head. Your result dataframe must include all features including the encoded ones.\n"
      ]
    },
    {
      "cell_type": "code",
      "id": "29e311a5-43e6-4b6d-8268-bd1896d69c04",
      "metadata": {},
      "outputs": [],
      "source": [
        "# HINT: Use get_dummies() function on the categorical columns"
      ]
    },
    {
      "cell_type": "code",
      "id": "39246f81-6cc9-43f7-bcf5-62deb3215a4a",
      "metadata": {},
      "outputs": [],
      "source": [
        "### TASK  8: Cast all numeric columns to `float64`\n"
      ]
    },
    {
      "cell_type": "markdown",
      "id": "274914a2-1a20-42de-a7b8-3bfa60271d4d",
      "metadata": {},
      "outputs": [],
      "source": [
        "Now that our <code>features_one_hot</code> dataframe only contains numbers cast the entire dataframe to variable type <code>float64</code>\n"
      ]
    },
    {
      "cell_type": "code",
      "id": "5ab34112-e23c-4dd0-be77-37bef2295832",
      "metadata": {},
      "outputs": [],
      "source": [
        "# HINT: use astype function"
      ]
    },
    {
      "cell_type": "markdown",
      "id": "56c2daf9-5456-4f4b-a07a-ed8b5c21ab72",
      "metadata": {},
      "outputs": [],
      "source": [
        "We can now export it to a <b>CSV</b> for the next section,but to make the answers consistent, in the next lab we will provide data in a pre-selected date range.\n"
      ]
    },
    {
      "cell_type": "markdown",
      "id": "091750f8-7ab7-44d2-a3fc-4e6af8f400a2",
      "metadata": {},
      "outputs": [],
      "source": [
        "<code>features_one_hot.to_csv('dataset_part\\_3.csv', index=False)</code>\n"
      ]
    },
    {
      "cell_type": "markdown",
      "id": "f59b9da9-b95a-4dca-a7b2-c7f2cfc8bc6e",
      "metadata": {},
      "outputs": [],
      "source": [
        "## Authors\n"
      ]
    },
    {
      "cell_type": "markdown",
      "id": "a65cc682-42a4-4c4e-8127-e7ec64cfd59d",
      "metadata": {},
      "outputs": [],
      "source": [
        "[Pratiksha Verma](https://www.linkedin.com/in/pratiksha-verma-6487561b1/?utm_medium=Exinfluencer&utm_source=Exinfluencer&utm_content=000026UJ&utm_term=10006555&utm_id=NA-SkillsNetwork-Channel-SkillsNetworkCoursesIBMDS0321ENSkillsNetwork865-2022-01-01)\n"
      ]
    },
    {
      "cell_type": "markdown",
      "id": "bfe51f1e-b3ab-4f6d-bcbd-ecb2236e88ed",
      "metadata": {},
      "outputs": [],
      "source": [
        "## Change Log\n"
      ]
    },
    {
      "cell_type": "markdown",
      "id": "8d73ea38-6a28-4dac-adb2-07a05fe4afb0",
      "metadata": {},
      "outputs": [],
      "source": [
        "| Date (YYYY-MM-DD) | Version | Changed By      | Change Description      |\n",
        "| ----------------- | ------- | -------------   | ----------------------- |\n",
        "| 2022-11-09        | 1.0     | Pratiksha Verma | Converted initial version to Jupyterlite|\n"
      ]
    },
    {
      "cell_type": "markdown",
      "id": "66e07a6f-8487-4fca-a481-8465c1c9ac73",
      "metadata": {},
      "outputs": [],
      "source": [
        "### <h3 align=\"center\"> IBM Corporation 2022. All rights reserved. <h3/>\n"
      ]
    }
  ],
  "metadata": {
    "language_info": {
      "codemirror_mode": {
        "name": "python",
        "version": 3
      },
      "file_extension": ".py",
      "mimetype": "text/x-python",
      "name": "python",
      "nbconvert_exporter": "python",
      "pygments_lexer": "ipython3",
      "version": "3.8"
    },
    "kernelspec": {
      "name": "python",
      "display_name": "Pyolite",
      "language": "python"
    }
  },
  "nbformat": 4,
  "nbformat_minor": 4
}